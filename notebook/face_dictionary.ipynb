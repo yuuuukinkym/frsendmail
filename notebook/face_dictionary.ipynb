{
 "cells": [
  {
   "cell_type": "code",
   "execution_count": 6,
   "id": "e5daf6f6",
   "metadata": {},
   "outputs": [],
   "source": [
    "#python用opencvライブラリをインストール\n",
    "import cv2\n",
    "import os\n",
    "import numpy as np"
   ]
  },
  {
   "cell_type": "code",
   "execution_count": 7,
   "id": "3d705170",
   "metadata": {},
   "outputs": [
    {
     "name": "stderr",
     "output_type": "stream",
     "text": [
      "[ERROR:0@475.649] global /io/opencv/modules/dnn/src/onnx/onnx_importer.cpp (2516) parseShape DNN/ONNX(Shape): dynamic 'zero' shapes are not supported, input 243 [ 0 0 0 51 ]\n",
      "[ERROR:0@475.649] global /io/opencv/modules/dnn/src/onnx/onnx_importer.cpp (2516) parseShape DNN/ONNX(Shape): dynamic 'zero' shapes are not supported, input 250 [ 0 0 0 34 ]\n",
      "[ERROR:0@475.649] global /io/opencv/modules/dnn/src/onnx/onnx_importer.cpp (2516) parseShape DNN/ONNX(Shape): dynamic 'zero' shapes are not supported, input 257 [ 0 0 0 34 ]\n",
      "[ERROR:0@475.649] global /io/opencv/modules/dnn/src/onnx/onnx_importer.cpp (2516) parseShape DNN/ONNX(Shape): dynamic 'zero' shapes are not supported, input 264 [ 0 0 0 51 ]\n",
      "[ERROR:0@475.649] global /io/opencv/modules/dnn/src/onnx/onnx_importer.cpp (2516) parseShape DNN/ONNX(Shape): dynamic 'zero' shapes are not supported, input 297 [ 0 -4 ]\n"
     ]
    }
   ],
   "source": [
    "#ライブラリの名前.クラス.メソッド(\"モデルのファイル\", \"\")　モデルを読み込む\n",
    "# 相対パスを書く\n",
    "face_detector = cv2.FaceDetectorYN_create(\"../models/yunet.onnx\", \"\", (0,0))\n",
    "face_recognizer = cv2.FaceRecognizerSF.create(\"../models/face_recognizer_fast.onnx\", \"\")"
   ]
  },
  {
   "cell_type": "code",
   "execution_count": 8,
   "id": "0c5f7755",
   "metadata": {},
   "outputs": [],
   "source": [
    "#入力する画像のサイズを指定する\n",
    "image = cv2.imread(\"../smile.jpg\")\n",
    "hight, width, _ = image.shape\n",
    "face_detector.setInputSize((width, hight))"
   ]
  },
  {
   "cell_type": "code",
   "execution_count": 9,
   "id": "15dc8bf7",
   "metadata": {},
   "outputs": [],
   "source": [
    "#顔を検出する\n",
    "aligned_faces = []\n",
    "_, faces = face_detector.detect(image)\n",
    "if faces is not None:\n",
    "    for face in faces:\n",
    "        aligned_face = face_recognizer.alignCrop(image, face)\n",
    "        aligned_faces.append(aligned_face)"
   ]
  },
  {
   "cell_type": "code",
   "execution_count": 10,
   "id": "0c976bec",
   "metadata": {},
   "outputs": [],
   "source": [
    "#正規化した顔画像を保存する\n",
    "for i, aligned_face in enumerate(aligned_faces):\n",
    "    cv2.imwrite(\"face{:003}.jpg\".format(i + 1), aligned_face)\n",
    "    file = \"face{:003}.jpg\".format(i + 1)\n",
    "    #特徴を抽出\n",
    "    #モデルを代入した変数.feature(画像データ)\n",
    "    face_feature = face_recognizer.feature(aligned_face)\n",
    "    #特徴を保存する\n",
    "    #拡張子の部分をのぞいたものをファイルの名前とする。\n",
    "    filename = os.path.splitext(os.path.basename(file))[0]\n",
    "    #.npyファイルに保存\n",
    "    #np.save(ファイル名,顔の特徴)\n",
    "    np.save(filename, face_feature)"
   ]
  }
 ],
 "metadata": {
  "kernelspec": {
   "display_name": "Python 3 (ipykernel)",
   "language": "python",
   "name": "python3"
  },
  "language_info": {
   "codemirror_mode": {
    "name": "ipython",
    "version": 3
   },
   "file_extension": ".py",
   "mimetype": "text/x-python",
   "name": "python",
   "nbconvert_exporter": "python",
   "pygments_lexer": "ipython3",
   "version": "3.11.2"
  }
 },
 "nbformat": 4,
 "nbformat_minor": 5
}
