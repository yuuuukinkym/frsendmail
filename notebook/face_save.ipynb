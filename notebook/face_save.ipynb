{
 "cells": [
  {
   "cell_type": "code",
   "execution_count": 2,
   "metadata": {},
   "outputs": [],
   "source": [
    "import cv2"
   ]
  },
  {
   "cell_type": "code",
   "execution_count": 14,
   "metadata": {},
   "outputs": [
    {
     "name": "stderr",
     "output_type": "stream",
     "text": [
      "[ERROR:0@2350.723] global /io/opencv/modules/dnn/src/onnx/onnx_importer.cpp (2516) parseShape DNN/ONNX(Shape): dynamic 'zero' shapes are not supported, input 243 [ 0 0 0 51 ]\n",
      "[ERROR:0@2350.723] global /io/opencv/modules/dnn/src/onnx/onnx_importer.cpp (2516) parseShape DNN/ONNX(Shape): dynamic 'zero' shapes are not supported, input 250 [ 0 0 0 34 ]\n",
      "[ERROR:0@2350.723] global /io/opencv/modules/dnn/src/onnx/onnx_importer.cpp (2516) parseShape DNN/ONNX(Shape): dynamic 'zero' shapes are not supported, input 257 [ 0 0 0 34 ]\n",
      "[ERROR:0@2350.723] global /io/opencv/modules/dnn/src/onnx/onnx_importer.cpp (2516) parseShape DNN/ONNX(Shape): dynamic 'zero' shapes are not supported, input 264 [ 0 0 0 51 ]\n",
      "[ERROR:0@2350.724] global /io/opencv/modules/dnn/src/onnx/onnx_importer.cpp (2516) parseShape DNN/ONNX(Shape): dynamic 'zero' shapes are not supported, input 297 [ 0 -4 ]\n"
     ]
    }
   ],
   "source": [
    "#モデルを読み込む\n",
    "#cv2.FaceDetectorYN_create(\"パス\", \"\", サイズ)\n",
    "face_detector = cv2.FaceDetectorYN_create(\"../models/yunet.onnx\", \"\", (240, 240))\n",
    "face_recognizer = cv2.FaceRecognizerSF_create(\"../models/face_recognizer_fast.onnx\", \"\")"
   ]
  },
  {
   "cell_type": "code",
   "execution_count": 15,
   "metadata": {},
   "outputs": [],
   "source": [
    "#画像を入力する\n",
    "#cv2.imread(パス)画像を読み込む\n",
    "image = cv2.imread(\"../meruru.jpg\")\n",
    "height, width, _ = image.shape\n",
    "#入力画像の大きさに合わせてサイズを設定\n",
    "face_detector.setInputSize((width, height))"
   ]
  },
  {
   "cell_type": "code",
   "execution_count": 8,
   "metadata": {},
   "outputs": [],
   "source": [
    "#画像を入力して顔を検出する\n",
    "#モデル.detect(読み込んだ画像)\n",
    "_, faces = face_detector.detect(image)\n",
    "faces = faces if faces is not None else []"
   ]
  },
  {
   "cell_type": "code",
   "execution_count": 10,
   "metadata": {},
   "outputs": [],
   "source": [
    "#検出した顔を切り抜く\n",
    "aligned_faces = []\n",
    "if faces is not None:\n",
    "    for face in faces:\n",
    "        #検出した画像と顔の特徴の検出結果を入力する\n",
    "        aligned_face = face_recognizer.alignCrop(image,face)\n",
    "        aligned_faces.append(aligned_face)"
   ]
  },
  {
   "cell_type": "code",
   "execution_count": 13,
   "metadata": {},
   "outputs": [],
   "source": [
    "#顔画像を保存する\n",
    "#enumerate()でインデックス値とリストの要素を付与させる\n",
    "for i, aligned_face in enumerate(aligned_faces):\n",
    "    cv2.imwrite(\"face{:03}.jpg\".format(i+1), aligned_face)"
   ]
  }
 ],
 "metadata": {
  "kernelspec": {
   "display_name": "Python 3 (ipykernel)",
   "language": "python",
   "name": "python3"
  },
  "language_info": {
   "codemirror_mode": {
    "name": "ipython",
    "version": 3
   },
   "file_extension": ".py",
   "mimetype": "text/x-python",
   "name": "python",
   "nbconvert_exporter": "python",
   "pygments_lexer": "ipython3",
   "version": "3.11.2"
  }
 },
 "nbformat": 4,
 "nbformat_minor": 2
}
