{
 "cells": [
  {
   "cell_type": "code",
   "execution_count": 16,
   "metadata": {},
   "outputs": [],
   "source": [
    "#GIOP用のモジュールと時間制御用のモジュールをインポート\n",
    "import RPi.GPIO as GPIO\n",
    "import time"
   ]
  },
  {
   "cell_type": "code",
   "execution_count": 17,
   "metadata": {},
   "outputs": [],
   "source": [
    "#ポート番号を定義\n",
    "gp_out = 4\n",
    "#GPIOの設定\n",
    "GPIO.setmode(GPIO.BCM)  #GPIOのモードをGPIO.BCMに設定\n",
    "GPIO.setup(gp_out, GPIO.OUT)    #GPIO4を出力モードに設定"
   ]
  },
  {
   "cell_type": "code",
   "execution_count": 18,
   "metadata": {},
   "outputs": [],
   "source": [
    "#PWMの設定\n",
    "#サーボモータSG90の周波数は、50Hz \n",
    "servo = GPIO.PWM(gp_out, 50)\n",
    "servo.start(0)"
   ]
  },
  {
   "cell_type": "code",
   "execution_count": 19,
   "metadata": {},
   "outputs": [],
   "source": [
    "for i in range(3):\n",
    "    servo.ChangeDutyCycle(2.5)\n",
    "    time.sleep(0.5)\n",
    "\n",
    "    servo.ChangeDutyCycle(7.25)\n",
    "    time.sleep(0.5)\n",
    "\n",
    "    servo.ChangeDutyCycle(12)\n",
    "    time.sleep(0.5)\n",
    "\n",
    "    servo.ChangeDutyCycle(7.25)\n",
    "    time.sleep(0.5)\n",
    "\n",
    "servo.stop()\n",
    "GPIO.cleanup()"
   ]
  },
  {
   "cell_type": "code",
   "execution_count": null,
   "metadata": {},
   "outputs": [],
   "source": []
  }
 ],
 "metadata": {
  "kernelspec": {
   "display_name": "Python 3",
   "language": "python",
   "name": "python3"
  },
  "language_info": {
   "codemirror_mode": {
    "name": "ipython",
    "version": 3
   },
   "file_extension": ".py",
   "mimetype": "text/x-python",
   "name": "python",
   "nbconvert_exporter": "python",
   "pygments_lexer": "ipython3",
   "version": "3.9.2"
  },
  "orig_nbformat": 4
 },
 "nbformat": 4,
 "nbformat_minor": 2
}
